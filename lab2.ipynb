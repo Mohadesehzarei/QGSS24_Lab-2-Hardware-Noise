{
 "cells": [
  {
   "cell_type": "markdown",
   "metadata": {},
   "source": [
    "# Lab 2: Utility-Scale Layer Fidelity Experiment\n",
    "\n",
    "Samantha Barron, Haimeng Zhang"
   ]
  },
  {
   "cell_type": "code",
   "execution_count": 28,
   "metadata": {
    "tags": []
   },
   "outputs": [
    {
     "name": "stdout",
     "output_type": "stream",
     "text": [
      "env: QXToken=eafe6b19915883c206e07330426ebeec6281dd5f8cb1462262da6e8c2c76c89c315fa361276dc4e8c2679cd1bc2031cb73c747fea64ab964e0e785ca2f912232\n"
     ]
    }
   ],
   "source": [
    "%set_env QXToken=eafe6b19915883c206e07330426ebeec6281dd5f8cb1462262da6e8c2c76c89c315fa361276dc4e8c2679cd1bc2031cb73c747fea64ab964e0e785ca2f912232\n",
    "# Make sure there is no space between the equal sign\n",
    "# and the beginning of your token\n",
    "# Make sure you do NOT ADD QUOTATION MARKS!!!!ken=Your_Quantum_API_Token_goes_here"
   ]
  },
  {
   "cell_type": "code",
   "execution_count": 29,
   "metadata": {
    "tags": []
   },
   "outputs": [],
   "source": [
    "from qiskit_ibm_runtime import QiskitRuntimeService\n",
    "\n",
    "# Save an IBM Cloud account on disk\n",
    "token ='eafe6b19915883c206e07330426ebeec6281dd5f8cb1462262da6e8c2c76c89c315fa361276dc4e8c2679cd1bc2031cb73c747fea64ab964e0e785ca2f912232'\n",
    "\n",
    "QiskitRuntimeService.save_account(channel=\"ibm_quantum\", token=token,overwrite=True)"
   ]
  },
  {
   "cell_type": "code",
   "execution_count": 30,
   "metadata": {
    "tags": []
   },
   "outputs": [],
   "source": [
    "from qiskit_ibm_runtime import QiskitRuntimeService\n",
    "\n",
    "service = QiskitRuntimeService()"
   ]
  },
  {
   "cell_type": "code",
   "execution_count": 31,
   "metadata": {
    "tags": []
   },
   "outputs": [
    {
     "name": "stdout",
     "output_type": "stream",
     "text": [
      "Backend: ibm_osaka\n",
      "Number of qubits: 127\n",
      "Chosen qubit path: [0, 1, 2, 3, 4]\n",
      "Path verification successful!\n"
     ]
    }
   ],
   "source": [
    "from qiskit_ibm_provider import IBMProvider\n",
    "\n",
    "# Load your IBM Quantum account\n",
    "provider = IBMProvider()\n",
    "\n",
    "# Choose the backend\n",
    "BACKEND = provider.get_backend('ibm_osaka')\n",
    "\n",
    "# Define the path of qubits\n",
    "PATH_ANSWER: list[int] = [0, 1, 2, 3, 4]\n",
    "\n",
    "# Print backend information\n",
    "print(f\"Backend: {BACKEND.name}\")\n",
    "print(f\"Number of qubits: {BACKEND.configuration().num_qubits}\")\n",
    "print(f\"Chosen qubit path: {PATH_ANSWER}\")\n",
    "\n",
    "# Verify that the path is valid\n",
    "coupling_map = BACKEND.configuration().coupling_map\n",
    "for i in range(len(PATH_ANSWER) - 1):\n",
    "    assert [PATH_ANSWER[i], PATH_ANSWER[i+1]] in coupling_map or [PATH_ANSWER[i+1], PATH_ANSWER[i]] in coupling_map, f\"Qubits {PATH_ANSWER[i]} and {PATH_ANSWER[i+1]} are not connected\"\n",
    "\n",
    "print(\"Path verification successful!\")"
   ]
  },
  {
   "cell_type": "code",
   "execution_count": 32,
   "metadata": {
    "tags": []
   },
   "outputs": [
    {
     "name": "stdout",
     "output_type": "stream",
     "text": [
      "Submitting your answer. Please wait...\n",
      "Nice work, all your answers look correct!\n"
     ]
    }
   ],
   "source": [
    "from qc_grader.challenges.qgss_2024 import grade_lab2_ex1\n",
    "grade_lab2_ex1(PATH_ANSWER, BACKEND)"
   ]
  },
  {
   "cell_type": "code",
   "execution_count": 33,
   "metadata": {
    "tags": []
   },
   "outputs": [
    {
     "name": "stdout",
     "output_type": "stream",
     "text": [
      "\n",
      "Backend: ibm_osaka\n",
      "Number of qubits: 127\n",
      "Please provide a valid PATH_ANSWER, LAYER_1_ANSWER, and LAYER_2_ANSWER based on the printed coupling map.\n"
     ]
    }
   ],
   "source": [
    "\n",
    "# Retrieve the coupling map from the backend\n",
    "coupling_map = BACKEND.configuration().coupling_map\n",
    "\n",
    "# After seeing the coupling map, we'll manually define a valid path and layers\n",
    "# For now, let's leave these as empty and fill them in after seeing the coupling map\n",
    "PATH_ANSWER = []\n",
    "LAYER_1_ANSWER = []\n",
    "LAYER_2_ANSWER = []\n",
    "\n",
    "# Print backend information\n",
    "print(f\"\\nBackend: {BACKEND.name}\")\n",
    "print(f\"Number of qubits: {BACKEND.configuration().num_qubits}\")\n",
    "\n",
    "# The rest of the verification code will be added after we define the path and layers\n",
    "\n",
    "print(\"Please provide a valid PATH_ANSWER, LAYER_1_ANSWER, and LAYER_2_ANSWER based on the printed coupling map.\")"
   ]
  },
  {
   "cell_type": "code",
   "execution_count": 34,
   "metadata": {
    "tags": []
   },
   "outputs": [
    {
     "name": "stdout",
     "output_type": "stream",
     "text": [
      "Submitting your answer. Please wait...\n",
      "Nice work, all your answers look correct!\n"
     ]
    }
   ],
   "source": [
    "# grade part 2\n",
    "from qc_grader.challenges.qgss_2024 import grade_lab2_ex2\n",
    "grade_lab2_ex2(LAYER_1_ANSWER, LAYER_2_ANSWER, PATH_ANSWER, BACKEND)"
   ]
  },
  {
   "cell_type": "code",
   "execution_count": 35,
   "metadata": {
    "tags": []
   },
   "outputs": [
    {
     "name": "stdout",
     "output_type": "stream",
     "text": [
      "\n",
      "Chosen two-qubit Clifford gate: ecr\n"
     ]
    }
   ],
   "source": [
    "from qiskit import QuantumCircuit\n",
    "from qiskit_ibm_provider import IBMProvider\n",
    "\n",
    "# Load your IBM Quantum account\n",
    "provider = IBMProvider()\n",
    "\n",
    "# Choose the backend\n",
    "BACKEND = provider.get_backend('ibm_osaka')\n",
    "\n",
    "# Retrieve the coupling map and basis gates from the backend\n",
    "coupling_map = BACKEND.configuration().coupling_map\n",
    "basis_gates = BACKEND.configuration().basis_gates\n",
    "\n",
    "\n",
    "# Define LAYER_1_ANSWER and LAYER_2_ANSWER based on the coupling map\n",
    "\n",
    "LAYER_1_ANSWER = [(1, 2), (5, 8)]\n",
    "LAYER_2_ANSWER = [(2, 3), (3, 5)]\n",
    "\n",
    "# Choose the appropriate two-qubit Clifford gate\n",
    "if 'ecr' in basis_gates:\n",
    "    GATE_NAME = 'ecr'\n",
    "elif 'cz' in basis_gates:\n",
    "    GATE_NAME = 'cz'\n",
    "elif 'cx' in basis_gates:\n",
    "    GATE_NAME = 'cx'\n",
    "else:\n",
    "    raise ValueError(\"No suitable two-qubit Clifford gate found in basis gates\")\n",
    "\n",
    "print(f\"\\nChosen two-qubit Clifford gate: {GATE_NAME}\")\n",
    "\n",
    "# Function to create a circuit for a given layer\n",
    "def create_circuit(layer, num_qubits):\n",
    "    circuit = QuantumCircuit(num_qubits)\n",
    "    for edge in layer:\n",
    "        if GATE_NAME == 'ecr':\n",
    "            circuit.ecr(edge[0], edge[1])\n",
    "        elif GATE_NAME == 'cz':\n",
    "            circuit.cz(edge[0], edge[1])\n",
    "        elif GATE_NAME == 'cx':\n",
    "            circuit.cx(edge[0], edge[1])\n",
    "    return circuit\n",
    "\n",
    "# Create the circuits\n",
    "num_qubits = max(max(qubit for edge in LAYER_1_ANSWER for qubit in edge),\n",
    "                 max(qubit for edge in LAYER_2_ANSWER for qubit in edge)) + 1\n",
    "\n",
    "CIRC_1_ANSWER = create_circuit(LAYER_1_ANSWER, num_qubits)\n",
    "CIRC_2_ANSWER = create_circuit(LAYER_2_ANSWER, num_qubits)\n"
   ]
  },
  {
   "cell_type": "code",
   "execution_count": 36,
   "metadata": {
    "tags": []
   },
   "outputs": [
    {
     "name": "stdout",
     "output_type": "stream",
     "text": [
      "Submitting your answer. Please wait...\n",
      "Nice work, all your answers look correct!\n",
      "Submitting your answer. Please wait...\n",
      "Nice work, all your answers look correct!\n"
     ]
    }
   ],
   "source": [
    "# grade part 3\n",
    "from qc_grader.challenges.qgss_2024 import grade_lab2_ex3\n",
    "grade_lab2_ex3(CIRC_1_ANSWER, LAYER_1_ANSWER, GATE_NAME, BACKEND)\n",
    "grade_lab2_ex3(CIRC_2_ANSWER, LAYER_2_ANSWER, GATE_NAME, BACKEND)"
   ]
  },
  {
   "cell_type": "code",
   "execution_count": 37,
   "metadata": {
    "tags": []
   },
   "outputs": [],
   "source": [
    "import numpy as np\n",
    "\n",
    "from qiskit.primitives.containers.bindings_array import BindingsArray\n",
    "\n",
    "def get_clifford_rz_samples(\n",
    "    circ: QuantumCircuit,\n",
    "    num_samples: int,\n",
    "    rng: np.random.Generator,\n",
    ") -> BindingsArray:\n",
    "    \"\"\"Uniformly sample the Rz parameters in a `QuantumCircuit`\n",
    "    from -pi, -pi/2, 0, +pi/2, +pi.\n",
    "    \"\"\"\n",
    "\n",
    "    _allowed_ops = {'rz', 'sx', 'sxdg', 'ecr', 'barrier', 'measure'}\n",
    "    if (_other := set(circ.count_ops().keys()) - _allowed_ops):\n",
    "        raise ValueError(f\"Circuit must only contain ops: {_allowed_ops}, got {_other}\")\n",
    "\n",
    "    sampled_pars = rng.integers(-2, 3, size=(num_samples, len(circ.parameters))) * (np.pi/2)\n",
    "\n",
    "    return BindingsArray({\n",
    "        tuple(circ.parameters): sampled_pars\n",
    "    })"
   ]
  },
  {
   "cell_type": "code",
   "execution_count": 38,
   "metadata": {
    "tags": []
   },
   "outputs": [
    {
     "name": "stdout",
     "output_type": "stream",
     "text": [
      "Coupling map:\n",
      "[1, 0]\n",
      "[2, 1]\n",
      "[2, 3]\n",
      "[3, 4]\n",
      "[5, 4]\n",
      "[6, 5]\n",
      "[6, 7]\n",
      "[7, 8]\n",
      "[8, 16]\n",
      "[9, 8]\n",
      "[9, 10]\n",
      "[11, 10]\n",
      "[12, 11]\n",
      "[13, 12]\n",
      "[14, 0]\n",
      "[14, 18]\n",
      "[15, 4]\n",
      "[16, 26]\n",
      "[17, 12]\n",
      "[17, 30]\n",
      "[18, 19]\n",
      "[20, 19]\n",
      "[21, 20]\n",
      "[21, 22]\n",
      "[22, 15]\n",
      "[23, 22]\n",
      "[24, 23]\n",
      "[24, 25]\n",
      "[24, 34]\n",
      "[25, 26]\n",
      "[27, 26]\n",
      "[27, 28]\n",
      "[28, 29]\n",
      "[28, 35]\n",
      "[30, 29]\n",
      "[31, 30]\n",
      "[31, 32]\n",
      "[33, 20]\n",
      "[35, 47]\n",
      "[36, 32]\n",
      "[37, 38]\n",
      "[37, 52]\n",
      "[39, 33]\n",
      "[39, 38]\n",
      "[40, 39]\n",
      "[40, 41]\n",
      "[42, 41]\n",
      "[42, 43]\n",
      "[43, 34]\n",
      "[43, 44]\n",
      "[45, 44]\n",
      "[45, 46]\n",
      "[45, 54]\n",
      "[46, 47]\n",
      "[48, 47]\n",
      "[48, 49]\n",
      "[49, 50]\n",
      "[50, 51]\n",
      "[51, 36]\n",
      "[52, 56]\n",
      "[53, 41]\n",
      "[55, 49]\n",
      "[57, 56]\n",
      "[57, 58]\n",
      "[58, 71]\n",
      "[59, 58]\n",
      "[59, 60]\n",
      "[60, 53]\n",
      "[61, 60]\n",
      "[61, 62]\n",
      "[62, 72]\n",
      "[63, 62]\n",
      "[64, 54]\n",
      "[64, 63]\n",
      "[65, 64]\n",
      "[66, 65]\n",
      "[66, 73]\n",
      "[67, 66]\n",
      "[68, 55]\n",
      "[68, 67]\n",
      "[68, 69]\n",
      "[69, 70]\n",
      "[71, 77]\n",
      "[74, 70]\n",
      "[75, 76]\n",
      "[76, 77]\n",
      "[78, 77]\n",
      "[78, 79]\n",
      "[79, 80]\n",
      "[81, 72]\n",
      "[81, 80]\n",
      "[81, 82]\n",
      "[83, 82]\n",
      "[84, 83]\n",
      "[85, 73]\n",
      "[85, 84]\n",
      "[86, 85]\n",
      "[87, 86]\n",
      "[87, 88]\n",
      "[87, 93]\n",
      "[88, 89]\n",
      "[89, 74]\n",
      "[90, 75]\n",
      "[90, 94]\n",
      "[91, 79]\n",
      "[92, 83]\n",
      "[92, 102]\n",
      "[93, 106]\n",
      "[94, 95]\n",
      "[96, 95]\n",
      "[96, 97]\n",
      "[96, 109]\n",
      "[97, 98]\n",
      "[98, 91]\n",
      "[99, 98]\n",
      "[100, 99]\n",
      "[100, 110]\n",
      "[101, 100]\n",
      "[101, 102]\n",
      "[103, 102]\n",
      "[103, 104]\n",
      "[104, 105]\n",
      "[104, 111]\n",
      "[105, 106]\n",
      "[106, 107]\n",
      "[108, 107]\n",
      "[108, 112]\n",
      "[109, 114]\n",
      "[114, 113]\n",
      "[114, 115]\n",
      "[115, 116]\n",
      "[116, 117]\n",
      "[117, 118]\n",
      "[118, 110]\n",
      "[118, 119]\n",
      "[120, 119]\n",
      "[120, 121]\n",
      "[121, 122]\n",
      "[122, 111]\n",
      "[123, 122]\n",
      "[123, 124]\n",
      "[125, 124]\n",
      "[125, 126]\n",
      "[126, 112]\n",
      "\n",
      "Basis gates:\n",
      "['ecr', 'id', 'rz', 'sx', 'x']\n",
      "\n",
      "Chosen two-qubit Clifford gate: ecr\n",
      "ARRAY_1_ANSWER:\n",
      "BindingsArray(<shape=(10,), num_parameters=0>)\n",
      "\n",
      "ARRAY_2_ANSWER:\n",
      "BindingsArray(<shape=(10,), num_parameters=0>)\n"
     ]
    }
   ],
   "source": [
    "import numpy as np\n",
    "from qiskit import QuantumCircuit, transpile\n",
    "from qiskit.primitives.containers.bindings_array import BindingsArray\n",
    "from qiskit_ibm_provider import IBMProvider\n",
    "\n",
    "# Load your IBM Quantum account\n",
    "provider = IBMProvider()\n",
    "\n",
    "# Choose the backend\n",
    "BACKEND = provider.get_backend('ibm_osaka')\n",
    "\n",
    "# Retrieve the coupling map and basis gates from the backend\n",
    "coupling_map = BACKEND.configuration().coupling_map\n",
    "basis_gates = BACKEND.configuration().basis_gates\n",
    "\n",
    "print(\"Coupling map:\")\n",
    "for edge in coupling_map:\n",
    "    print(edge)\n",
    "\n",
    "print(\"\\nBasis gates:\")\n",
    "print(basis_gates)\n",
    "\n",
    "# Define LAYER_1_ANSWER and LAYER_2_ANSWER based on the coupling map\n",
    "LAYER_1_ANSWER = [(1, 2), (5, 8)]\n",
    "LAYER_2_ANSWER = [(2, 3), (3, 5)]\n",
    "\n",
    "# Choose the appropriate two-qubit Clifford gate\n",
    "if 'ecr' in basis_gates:\n",
    "    GATE_NAME = 'ecr'\n",
    "elif 'cz' in basis_gates:\n",
    "    GATE_NAME = 'cz'\n",
    "elif 'cx' in basis_gates:\n",
    "    GATE_NAME = 'cx'\n",
    "else:\n",
    "    raise ValueError(\"No suitable two-qubit Clifford gate found in basis gates\")\n",
    "\n",
    "print(f\"\\nChosen two-qubit Clifford gate: {GATE_NAME}\")\n",
    "\n",
    "# Function to create a circuit for a given layer\n",
    "def create_circuit(layer, num_qubits):\n",
    "    circuit = QuantumCircuit(num_qubits)\n",
    "    for edge in layer:\n",
    "        if GATE_NAME == 'ecr':\n",
    "            circuit.ecr(edge[0], edge[1])\n",
    "        elif GATE_NAME == 'cz':\n",
    "            circuit.cz(edge[0], edge[1])\n",
    "        elif GATE_NAME == 'cx':\n",
    "            circuit.cx(edge[0], edge[1])\n",
    "    return circuit\n",
    "\n",
    "# Create the circuits\n",
    "num_qubits = max(max(qubit for edge in LAYER_1_ANSWER for qubit in edge),\n",
    "                 max(qubit for edge in LAYER_2_ANSWER for qubit in edge)) + 1\n",
    "\n",
    "CIRCUIT_1_ANSWER = create_circuit(LAYER_1_ANSWER, num_qubits)\n",
    "CIRCUIT_2_ANSWER = create_circuit(LAYER_2_ANSWER, num_qubits)\n",
    "\n",
    "# Define the eplg_circuit function\n",
    "def eplg_circuit(num_qubits, depth, layer, qubits):\n",
    "    circuit = QuantumCircuit(num_qubits)\n",
    "    for _ in range(depth):\n",
    "        for edge in layer:\n",
    "            if GATE_NAME == 'ecr':\n",
    "                circuit.ecr(edge[0], edge[1])\n",
    "            elif GATE_NAME == 'cz':\n",
    "                circuit.cz(edge[0], edge[1])\n",
    "            elif GATE_NAME == 'cx':\n",
    "                circuit.cx(edge[0], edge[1])\n",
    "    return circuit\n",
    "\n",
    "# Create example_circuit_2\n",
    "example_circuit_2 = eplg_circuit(\n",
    "    num_qubits=BACKEND.configuration().num_qubits,\n",
    "    depth=4,\n",
    "    layer=LAYER_2_ANSWER,\n",
    "    qubits=PATH_ANSWER,\n",
    ")\n",
    "\n",
    "# Define the get_clifford_rz_samples function\n",
    "def get_clifford_rz_samples(\n",
    "    circ: QuantumCircuit,\n",
    "    num_samples: int,\n",
    "    rng: np.random.Generator,\n",
    ") -> BindingsArray:\n",
    "    \"\"\"Uniformly sample the Rz parameters in a `QuantumCircuit`\n",
    "    from -pi, -pi/2, 0, +pi/2, +pi.\n",
    "    \"\"\"\n",
    "\n",
    "    _allowed_ops = {'rz', 'sx', 'sxdg', 'ecr', 'barrier', 'measure'}\n",
    "    if (_other := set(circ.count_ops().keys()) - _allowed_ops):\n",
    "        raise ValueError(f\"Circuit must only contain ops: {_allowed_ops}, got {_other}\")\n",
    "\n",
    "    sampled_pars = rng.integers(-2, 3, size=(num_samples, len(circ.parameters))) * (np.pi/2)\n",
    "\n",
    "    return BindingsArray({\n",
    "        tuple(circ.parameters): sampled_pars\n",
    "    })\n",
    "\n",
    "# Use the example_circuit_2 to create ARRAY_1_ANSWER\n",
    "num_samples = 10\n",
    "ARRAY_1_ANSWER = get_clifford_rz_samples(\n",
    "    circ=example_circuit_2,\n",
    "    num_samples=num_samples,\n",
    "    rng=np.random.default_rng(42)\n",
    ")\n",
    "\n",
    "print(\"ARRAY_1_ANSWER:\")\n",
    "print(ARRAY_1_ANSWER)\n",
    "\n",
    "# Similarly, for CIRCUIT_2_ANSWER\n",
    "ARRAY_2_ANSWER = get_clifford_rz_samples(\n",
    "    circ=CIRCUIT_2_ANSWER,\n",
    "    num_samples=num_samples,\n",
    "    rng=np.random.default_rng(43)  # Using a different seed for variety\n",
    ")\n",
    "\n",
    "print(\"\\nARRAY_2_ANSWER:\")\n",
    "print(ARRAY_2_ANSWER)"
   ]
  },
  {
   "cell_type": "code",
   "execution_count": 39,
   "metadata": {
    "tags": []
   },
   "outputs": [
    {
     "name": "stdout",
     "output_type": "stream",
     "text": [
      "Submitting your answer. Please wait...\n",
      "Nice work, all your answers look correct! \n",
      " Notice that the shape of the BindingsArray is [10], and there are {num_parameters} parameters.\n"
     ]
    }
   ],
   "source": [
    "# grade part 4\n",
    "from qc_grader.challenges.qgss_2024 import grade_lab2_ex4\n",
    "grade_lab2_ex4(ARRAY_1_ANSWER, example_circuit_1, num_samples)"
   ]
  },
  {
   "cell_type": "code",
   "execution_count": null,
   "metadata": {},
   "outputs": [],
   "source": []
  }
 ],
 "metadata": {
  "kernelspec": {
   "display_name": "Python 3 [Default]",
   "language": "python",
   "name": "python3"
  },
  "language_info": {
   "codemirror_mode": {
    "name": "ipython",
    "version": 3
   },
   "file_extension": ".py",
   "mimetype": "text/x-python",
   "name": "python",
   "nbconvert_exporter": "python",
   "pygments_lexer": "ipython3",
   "version": "3.11.9"
  }
 },
 "nbformat": 4,
 "nbformat_minor": 4
}
